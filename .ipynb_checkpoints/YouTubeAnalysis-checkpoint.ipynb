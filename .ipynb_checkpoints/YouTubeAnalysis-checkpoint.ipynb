{
 "cells": [
  {
   "cell_type": "markdown",
   "id": "0c020e28-0e74-4453-8a2f-ec9cc6b8922a",
   "metadata": {},
   "source": [
    "## Import Libraries "
   ]
  },
  {
   "cell_type": "code",
   "execution_count": 1,
   "id": "4be8a21d-eef6-4801-8941-e2f4253f2a93",
   "metadata": {},
   "outputs": [],
   "source": [
    "import os\n",
    "from googleapiclient.discovery import build\n",
    "import pandas as pd\n",
    "import matplotlib.pyplot as plt\n",
    "import seaborn as sns"
   ]
  },
  {
   "cell_type": "code",
   "execution_count": 2,
   "id": "a6d145e9-feca-4951-adad-d0bf3d8b412a",
   "metadata": {},
   "outputs": [],
   "source": [
    "%matplotlib inline\n",
    "sns.set(style=\"darkgrid\")"
   ]
  },
  {
   "cell_type": "markdown",
   "id": "eb8e6901-5ee6-4393-b570-5bd5b21b9ce8",
   "metadata": {},
   "source": [
    "## Set Up YouTube API Client"
   ]
  },
  {
   "cell_type": "code",
   "execution_count": 8,
   "id": "a92d5d7d-2147-4a36-b8fe-14779702f7dc",
   "metadata": {},
   "outputs": [],
   "source": [
    "api_key = os.getenv('YOUTUBE_API_KEY')\n",
    "youtube = build('youtube', 'v3', developerKey=api_key)"
   ]
  },
  {
   "cell_type": "code",
   "execution_count": 18,
   "id": "2d020c8a-fbe9-4fff-86f0-234561e93814",
   "metadata": {},
   "outputs": [
    {
     "name": "stdout",
     "output_type": "stream",
     "text": [
      "No data found for the given channel ID.\n"
     ]
    }
   ],
   "source": [
    "def get_channel_stats(youtube, channel_id):\n",
    "    request = youtube.channels().list(\n",
    "        part='snippet,contentDetails,statistics',\n",
    "        id=channel_id\n",
    "    )\n",
    "    response = request.execute()\n",
    "    \n",
    "    # Check if 'items' key is in the response and it is not empty\n",
    "    if 'items' in response and response['items']:\n",
    "        data = response['items'][0]\n",
    "        stats = {\n",
    "            'channelName': data['snippet']['title'],\n",
    "            'subscribers': int(data['statistics'].get('subscriberCount', 0)),  # Using .get to avoid KeyError\n",
    "            'views': int(data['statistics'].get('viewCount', 0)),\n",
    "            'totalVideos': int(data['statistics'].get('videoCount', 0)),\n",
    "            'playlistId': data['contentDetails']['relatedPlaylists']['uploads']\n",
    "        }\n",
    "        return stats\n",
    "    else:\n",
    "        return None  # Return None or appropriate response if no items found\n",
    "\n",
    "# Test the function with a valid channel ID\n",
    "channel_id = 'UC55bZSF_zy93XqGKKhD104w'\n",
    "channel_stats = get_channel_stats(youtube, channel_id)\n",
    "if channel_stats:\n",
    "    print(channel_stats)\n",
    "else:\n",
    "    print(\"No data found for the given channel ID.\")\n",
    "\n"
   ]
  },
  {
   "cell_type": "code",
   "execution_count": 19,
   "id": "57665a37-dee6-4f39-8099-d9cbcd818b3b",
   "metadata": {},
   "outputs": [
    {
     "name": "stdout",
     "output_type": "stream",
     "text": [
      "No data found for the given channel ID.\n"
     ]
    }
   ],
   "source": [
    "from googleapiclient.errors import HttpError\n",
    "\n",
    "try:\n",
    "    channel_stats = get_channel_stats(youtube, channel_id)\n",
    "    if channel_stats:\n",
    "        print(channel_stats)\n",
    "    else:\n",
    "        print(\"No data found for the given channel ID.\")\n",
    "except HttpError as error:\n",
    "    print(f\"An HTTP error occurred: {error.resp.status} {error.content}\")\n",
    "except Exception as error:\n",
    "    print(f\"An error occurred: {error}\")\n"
   ]
  },
  {
   "cell_type": "code",
   "execution_count": 21,
   "id": "48c4aab9-488b-4970-b95b-183a6a8867a4",
   "metadata": {},
   "outputs": [
    {
     "name": "stdout",
     "output_type": "stream",
     "text": [
      "{'channelName': 'Goodful', 'subscribers': 1610000, 'views': 243303445, 'totalVideos': 962, 'playlistId': 'UUEMArgthHuEtX-04qL_8puQ'}\n"
     ]
    }
   ],
   "source": [
    "known_channel_id = 'UCEMArgthHuEtX-04qL_8puQ'  # Example known channel ID\n",
    "channel_stats = get_channel_stats(youtube, known_channel_id)\n",
    "if channel_stats:\n",
    "    print(channel_stats)\n",
    "else:\n",
    "    print(\"No data found for the known channel ID.\")\n"
   ]
  },
  {
   "cell_type": "code",
   "execution_count": null,
   "id": "57434a6a-8063-4fa8-a754-49dc06975670",
   "metadata": {},
   "outputs": [],
   "source": []
  }
 ],
 "metadata": {
  "kernelspec": {
   "display_name": "Python 3 (ipykernel)",
   "language": "python",
   "name": "python3"
  },
  "language_info": {
   "codemirror_mode": {
    "name": "ipython",
    "version": 3
   },
   "file_extension": ".py",
   "mimetype": "text/x-python",
   "name": "python",
   "nbconvert_exporter": "python",
   "pygments_lexer": "ipython3",
   "version": "3.12.2"
  }
 },
 "nbformat": 4,
 "nbformat_minor": 5
}
